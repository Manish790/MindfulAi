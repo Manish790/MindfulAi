{
 "cells": [
  {
   "cell_type": "code",
   "execution_count": 2,
   "metadata": {},
   "outputs": [],
   "source": [
    "from sklearn.neighbors import NearestNeighbors\n",
    "import pandas as pd\n",
    "import requests\n",
    "import numpy as np\n"
   ]
  },
  {
   "cell_type": "code",
   "execution_count": 6,
   "metadata": {},
   "outputs": [
    {
     "data": {
      "text/plain": [
       "[{'userId': 'NA',\n",
       "  'userGender': 'Male',\n",
       "  '_id': '662f8188ce57e164ba06edc0',\n",
       "  'mark': True,\n",
       "  'adventurous': 3,\n",
       "  'senseOfHumor': 5,\n",
       "  'communicationImportance': 4,\n",
       "  'introvertedVsExtroverted': 5,\n",
       "  'spontaneity': 4,\n",
       "  'foodAdventurousness': 3,\n",
       "  'neatness': 6,\n",
       "  'aloneTimeVsTimeWithOthers': 4,\n",
       "  'opennessToNewActivities': 8,\n",
       "  'honestyImportance': 8,\n",
       "  '__v': 0},\n",
       " {'userId': 'NA',\n",
       "  'userGender': 'Male',\n",
       "  '_id': '662fda79321a690de025ef0c',\n",
       "  'mark': False,\n",
       "  'adventurous': 1,\n",
       "  'senseOfHumor': 1,\n",
       "  'communicationImportance': 1,\n",
       "  'introvertedVsExtroverted': 1,\n",
       "  'spontaneity': 1,\n",
       "  'foodAdventurousness': 1,\n",
       "  'neatness': 1,\n",
       "  'aloneTimeVsTimeWithOthers': 1,\n",
       "  'opennessToNewActivities': 1,\n",
       "  'honestyImportance': 1,\n",
       "  '__v': 0},\n",
       " {'userId': 'NA',\n",
       "  'userGender': 'Male',\n",
       "  '_id': '662fdc4b4757ebd22dbcce95',\n",
       "  'mark': True,\n",
       "  'adventurous': 6,\n",
       "  'senseOfHumor': 6,\n",
       "  'communicationImportance': 5,\n",
       "  'introvertedVsExtroverted': 6,\n",
       "  'spontaneity': 7,\n",
       "  'foodAdventurousness': 7,\n",
       "  'neatness': 9,\n",
       "  'aloneTimeVsTimeWithOthers': 9,\n",
       "  'opennessToNewActivities': 10,\n",
       "  'honestyImportance': 8,\n",
       "  '__v': 0},\n",
       " {'userId': 'NA',\n",
       "  'userGender': 'Male',\n",
       "  '_id': '662fe2bf95dcc8412bf510d5',\n",
       "  'mark': False,\n",
       "  'adventurous': 1,\n",
       "  'senseOfHumor': 1,\n",
       "  'communicationImportance': 1,\n",
       "  'introvertedVsExtroverted': 1,\n",
       "  'spontaneity': 1,\n",
       "  'foodAdventurousness': 1,\n",
       "  'neatness': 1,\n",
       "  'aloneTimeVsTimeWithOthers': 1,\n",
       "  'opennessToNewActivities': 1,\n",
       "  'honestyImportance': 1,\n",
       "  '__v': 0},\n",
       " {'userGender': 'Male',\n",
       "  '_id': '66326b11fc6d52f21ff40717',\n",
       "  'mark': True,\n",
       "  'userId': '66326b11fc6d52f21ff40719',\n",
       "  'adventurous': 5,\n",
       "  'senseOfHumor': 6,\n",
       "  'communicationImportance': 6,\n",
       "  'introvertedVsExtroverted': 8,\n",
       "  'spontaneity': 7,\n",
       "  'foodAdventurousness': 10,\n",
       "  'neatness': 7,\n",
       "  'aloneTimeVsTimeWithOthers': 6,\n",
       "  'opennessToNewActivities': 7,\n",
       "  'honestyImportance': 6,\n",
       "  '__v': 0}]"
      ]
     },
     "execution_count": 6,
     "metadata": {},
     "output_type": "execute_result"
    }
   ],
   "source": [
    "res=requests.get('http://localhost:4000/api/v1/other/dataset').json()\n",
    "res\n"
   ]
  },
  {
   "cell_type": "code",
   "execution_count": 7,
   "metadata": {},
   "outputs": [
    {
     "data": {
      "text/html": [
       "<div>\n",
       "<style scoped>\n",
       "    .dataframe tbody tr th:only-of-type {\n",
       "        vertical-align: middle;\n",
       "    }\n",
       "\n",
       "    .dataframe tbody tr th {\n",
       "        vertical-align: top;\n",
       "    }\n",
       "\n",
       "    .dataframe thead th {\n",
       "        text-align: right;\n",
       "    }\n",
       "</style>\n",
       "<table border=\"1\" class=\"dataframe\">\n",
       "  <thead>\n",
       "    <tr style=\"text-align: right;\">\n",
       "      <th></th>\n",
       "      <th>userId</th>\n",
       "      <th>adventurous</th>\n",
       "      <th>senseOfHumor</th>\n",
       "      <th>communicationImportance</th>\n",
       "      <th>introvertedVsExtroverted</th>\n",
       "      <th>spontaneity</th>\n",
       "      <th>foodAdventurousness</th>\n",
       "      <th>neatness</th>\n",
       "      <th>aloneTimeVsTimeWithOthers</th>\n",
       "      <th>opennessToNewActivities</th>\n",
       "      <th>honestyImportance</th>\n",
       "    </tr>\n",
       "  </thead>\n",
       "  <tbody>\n",
       "    <tr>\n",
       "      <th>0</th>\n",
       "      <td>NA</td>\n",
       "      <td>3</td>\n",
       "      <td>5</td>\n",
       "      <td>4</td>\n",
       "      <td>5</td>\n",
       "      <td>4</td>\n",
       "      <td>3</td>\n",
       "      <td>6</td>\n",
       "      <td>4</td>\n",
       "      <td>8</td>\n",
       "      <td>8</td>\n",
       "    </tr>\n",
       "    <tr>\n",
       "      <th>1</th>\n",
       "      <td>NA</td>\n",
       "      <td>1</td>\n",
       "      <td>1</td>\n",
       "      <td>1</td>\n",
       "      <td>1</td>\n",
       "      <td>1</td>\n",
       "      <td>1</td>\n",
       "      <td>1</td>\n",
       "      <td>1</td>\n",
       "      <td>1</td>\n",
       "      <td>1</td>\n",
       "    </tr>\n",
       "    <tr>\n",
       "      <th>2</th>\n",
       "      <td>NA</td>\n",
       "      <td>6</td>\n",
       "      <td>6</td>\n",
       "      <td>5</td>\n",
       "      <td>6</td>\n",
       "      <td>7</td>\n",
       "      <td>7</td>\n",
       "      <td>9</td>\n",
       "      <td>9</td>\n",
       "      <td>10</td>\n",
       "      <td>8</td>\n",
       "    </tr>\n",
       "    <tr>\n",
       "      <th>3</th>\n",
       "      <td>NA</td>\n",
       "      <td>1</td>\n",
       "      <td>1</td>\n",
       "      <td>1</td>\n",
       "      <td>1</td>\n",
       "      <td>1</td>\n",
       "      <td>1</td>\n",
       "      <td>1</td>\n",
       "      <td>1</td>\n",
       "      <td>1</td>\n",
       "      <td>1</td>\n",
       "    </tr>\n",
       "    <tr>\n",
       "      <th>4</th>\n",
       "      <td>66326b11fc6d52f21ff40719</td>\n",
       "      <td>5</td>\n",
       "      <td>6</td>\n",
       "      <td>6</td>\n",
       "      <td>8</td>\n",
       "      <td>7</td>\n",
       "      <td>10</td>\n",
       "      <td>7</td>\n",
       "      <td>6</td>\n",
       "      <td>7</td>\n",
       "      <td>6</td>\n",
       "    </tr>\n",
       "  </tbody>\n",
       "</table>\n",
       "</div>"
      ],
      "text/plain": [
       "                     userId  adventurous  senseOfHumor  \\\n",
       "0                        NA            3             5   \n",
       "1                        NA            1             1   \n",
       "2                        NA            6             6   \n",
       "3                        NA            1             1   \n",
       "4  66326b11fc6d52f21ff40719            5             6   \n",
       "\n",
       "   communicationImportance  introvertedVsExtroverted  spontaneity  \\\n",
       "0                        4                         5            4   \n",
       "1                        1                         1            1   \n",
       "2                        5                         6            7   \n",
       "3                        1                         1            1   \n",
       "4                        6                         8            7   \n",
       "\n",
       "   foodAdventurousness  neatness  aloneTimeVsTimeWithOthers  \\\n",
       "0                    3         6                          4   \n",
       "1                    1         1                          1   \n",
       "2                    7         9                          9   \n",
       "3                    1         1                          1   \n",
       "4                   10         7                          6   \n",
       "\n",
       "   opennessToNewActivities  honestyImportance  \n",
       "0                        8                  8  \n",
       "1                        1                  1  \n",
       "2                       10                  8  \n",
       "3                        1                  1  \n",
       "4                        7                  6  "
      ]
     },
     "execution_count": 7,
     "metadata": {},
     "output_type": "execute_result"
    }
   ],
   "source": [
    "\n",
    "data=pd.DataFrame(res)\n",
    "data=data.drop(columns=['_id','mark','userGender','__v'])\n",
    "X=data.drop(columns=['userId'])\n",
    "data\n"
   ]
  },
  {
   "cell_type": "code",
   "execution_count": 122,
   "metadata": {},
   "outputs": [],
   "source": [
    "k=5"
   ]
  },
  {
   "cell_type": "code",
   "execution_count": 8,
   "metadata": {},
   "outputs": [
    {
     "ename": "NameError",
     "evalue": "name 'k' is not defined",
     "output_type": "error",
     "traceback": [
      "\u001b[1;31m---------------------------------------------------------------------------\u001b[0m",
      "\u001b[1;31mNameError\u001b[0m                                 Traceback (most recent call last)",
      "Cell \u001b[1;32mIn[8], line 1\u001b[0m\n\u001b[1;32m----> 1\u001b[0m knn \u001b[38;5;241m=\u001b[39m NearestNeighbors(n_neighbors\u001b[38;5;241m=\u001b[39m\u001b[43mk\u001b[49m, metric\u001b[38;5;241m=\u001b[39m\u001b[38;5;124m\"\u001b[39m\u001b[38;5;124meuclidean\u001b[39m\u001b[38;5;124m\"\u001b[39m)\n\u001b[0;32m      2\u001b[0m knn\u001b[38;5;241m.\u001b[39mfit(X)\n",
      "\u001b[1;31mNameError\u001b[0m: name 'k' is not defined"
     ]
    }
   ],
   "source": [
    "knn = NearestNeighbors(n_neighbors=k, metric=\"euclidean\")\n",
    "knn.fit(X)"
   ]
  },
  {
   "cell_type": "code",
   "execution_count": 9,
   "metadata": {},
   "outputs": [],
   "source": [
    "def predict_similar_users(row):\n",
    "    # Convert row to DataFrame\n",
    "    row_data = pd.DataFrame([row])\n",
    "    \n",
    "    # Extract features (excluding userId)\n",
    "    row_features = row_data.drop(columns=[\"userId\"])\n",
    "    \n",
    "    # Find indices of nearest neighbors\n",
    "    distances, indices = knn.kneighbors(row_features)\n",
    "    \n",
    "    # Get similar users' indices\n",
    "    similar_users_indices = indices[0]\n",
    "    \n",
    "    # Get similar users' userIds\n",
    "    similar_users = data.iloc[similar_users_indices][\"userId\"].tolist()\n",
    "    \n",
    "    return similar_users"
   ]
  },
  {
   "cell_type": "code",
   "execution_count": 10,
   "metadata": {},
   "outputs": [],
   "source": [
    "row = {\n",
    "    \"userId\": \"66326b11fc6d52f21ff40719\",\n",
    "   \"adventurous\":5,\"senseOfHumor\":6,\"communicationImportance\":6,\"introvertedVsExtroverted\":8,\"spontaneity\":7,\"foodAdventurousness\":10,\"neatness\":7,\"aloneTimeVsTimeWithOthers\":6,\"opennessToNewActivities\":7,\"honestyImportance\":6\n",
    "    # Add other features as needed\n",
    "}"
   ]
  },
  {
   "cell_type": "code",
   "execution_count": 11,
   "metadata": {},
   "outputs": [
    {
     "ename": "NameError",
     "evalue": "name 'knn' is not defined",
     "output_type": "error",
     "traceback": [
      "\u001b[1;31m---------------------------------------------------------------------------\u001b[0m",
      "\u001b[1;31mNameError\u001b[0m                                 Traceback (most recent call last)",
      "Cell \u001b[1;32mIn[11], line 1\u001b[0m\n\u001b[1;32m----> 1\u001b[0m similar_users \u001b[38;5;241m=\u001b[39m \u001b[43mpredict_similar_users\u001b[49m\u001b[43m(\u001b[49m\u001b[43mrow\u001b[49m\u001b[43m)\u001b[49m\n\u001b[0;32m      2\u001b[0m \u001b[38;5;28mprint\u001b[39m(\u001b[38;5;124m\"\u001b[39m\u001b[38;5;124mSimilar users:\u001b[39m\u001b[38;5;124m\"\u001b[39m, similar_users)\n",
      "Cell \u001b[1;32mIn[9], line 9\u001b[0m, in \u001b[0;36mpredict_similar_users\u001b[1;34m(row)\u001b[0m\n\u001b[0;32m      6\u001b[0m row_features \u001b[38;5;241m=\u001b[39m row_data\u001b[38;5;241m.\u001b[39mdrop(columns\u001b[38;5;241m=\u001b[39m[\u001b[38;5;124m\"\u001b[39m\u001b[38;5;124muserId\u001b[39m\u001b[38;5;124m\"\u001b[39m])\n\u001b[0;32m      8\u001b[0m \u001b[38;5;66;03m# Find indices of nearest neighbors\u001b[39;00m\n\u001b[1;32m----> 9\u001b[0m distances, indices \u001b[38;5;241m=\u001b[39m \u001b[43mknn\u001b[49m\u001b[38;5;241m.\u001b[39mkneighbors(row_features)\n\u001b[0;32m     11\u001b[0m \u001b[38;5;66;03m# Get similar users' indices\u001b[39;00m\n\u001b[0;32m     12\u001b[0m similar_users_indices \u001b[38;5;241m=\u001b[39m indices[\u001b[38;5;241m0\u001b[39m]\n",
      "\u001b[1;31mNameError\u001b[0m: name 'knn' is not defined"
     ]
    }
   ],
   "source": [
    "\n",
    "similar_users = predict_similar_users(row)\n",
    "print(\"Similar users:\", similar_users)"
   ]
  },
  {
   "cell_type": "code",
   "execution_count": null,
   "metadata": {},
   "outputs": [],
   "source": []
  },
  {
   "cell_type": "code",
   "execution_count": null,
   "metadata": {},
   "outputs": [],
   "source": []
  }
 ],
 "metadata": {
  "kernelspec": {
   "display_name": "Python 3",
   "language": "python",
   "name": "python3"
  },
  "language_info": {
   "codemirror_mode": {
    "name": "ipython",
    "version": 3
   },
   "file_extension": ".py",
   "mimetype": "text/x-python",
   "name": "python",
   "nbconvert_exporter": "python",
   "pygments_lexer": "ipython3",
   "version": "3.11.0"
  }
 },
 "nbformat": 4,
 "nbformat_minor": 2
}
